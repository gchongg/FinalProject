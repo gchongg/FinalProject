{
 "cells": [
  {
   "cell_type": "code",
   "execution_count": 2,
   "metadata": {},
   "outputs": [],
   "source": [
    "import numpy as np \n",
    "import pandas as pd"
   ]
  },
  {
   "cell_type": "code",
   "execution_count": 3,
   "metadata": {},
   "outputs": [
    {
     "data": {
      "text/html": [
       "<div>\n",
       "<style scoped>\n",
       "    .dataframe tbody tr th:only-of-type {\n",
       "        vertical-align: middle;\n",
       "    }\n",
       "\n",
       "    .dataframe tbody tr th {\n",
       "        vertical-align: top;\n",
       "    }\n",
       "\n",
       "    .dataframe thead th {\n",
       "        text-align: right;\n",
       "    }\n",
       "</style>\n",
       "<table border=\"1\" class=\"dataframe\">\n",
       "  <thead>\n",
       "    <tr style=\"text-align: right;\">\n",
       "      <th></th>\n",
       "      <th>Unnamed: 0</th>\n",
       "      <th>Instructor</th>\n",
       "      <th>Course</th>\n",
       "      <th>Quarter</th>\n",
       "      <th>TotalEnrolledinCourse</th>\n",
       "      <th>Total CAPEsGiven</th>\n",
       "      <th>PercentageRecommendedClass</th>\n",
       "      <th>PercentageRecommendedProfessor</th>\n",
       "      <th>StudyHoursperWeek</th>\n",
       "      <th>AverageGradeExpected</th>\n",
       "      <th>AverageGradeReceived</th>\n",
       "      <th>EvalulationURL</th>\n",
       "      <th>GradedCourse</th>\n",
       "      <th>AverageGradeExpected1</th>\n",
       "      <th>AverageGradeReceived1</th>\n",
       "      <th>CourseID</th>\n",
       "      <th>CourseName</th>\n",
       "      <th>CourseSection</th>\n",
       "    </tr>\n",
       "  </thead>\n",
       "  <tbody>\n",
       "    <tr>\n",
       "      <th>0</th>\n",
       "      <td>0</td>\n",
       "      <td>Rampure Suraj</td>\n",
       "      <td>DSC 10 - Principles of Data Science (A)</td>\n",
       "      <td>SP23</td>\n",
       "      <td>117</td>\n",
       "      <td>92</td>\n",
       "      <td>97.8</td>\n",
       "      <td>98.9</td>\n",
       "      <td>8.32</td>\n",
       "      <td>3.55</td>\n",
       "      <td>3.21</td>\n",
       "      <td>https://cape.ucsd.edu/CAPEReport.aspx?sectioni...</td>\n",
       "      <td>1</td>\n",
       "      <td>B+</td>\n",
       "      <td>B</td>\n",
       "      <td>DSC 10</td>\n",
       "      <td>Principles of Data Science</td>\n",
       "      <td>A</td>\n",
       "    </tr>\n",
       "    <tr>\n",
       "      <th>1</th>\n",
       "      <td>1</td>\n",
       "      <td>Rampure Suraj</td>\n",
       "      <td>DSC 10 - Principles of Data Science (B)</td>\n",
       "      <td>SP23</td>\n",
       "      <td>117</td>\n",
       "      <td>80</td>\n",
       "      <td>82.3</td>\n",
       "      <td>96.2</td>\n",
       "      <td>8.78</td>\n",
       "      <td>3.42</td>\n",
       "      <td>3.14</td>\n",
       "      <td>https://cape.ucsd.edu/CAPEReport.aspx?sectioni...</td>\n",
       "      <td>1</td>\n",
       "      <td>B+</td>\n",
       "      <td>B</td>\n",
       "      <td>DSC 10</td>\n",
       "      <td>Principles of Data Science</td>\n",
       "      <td>B</td>\n",
       "    </tr>\n",
       "    <tr>\n",
       "      <th>2</th>\n",
       "      <td>2</td>\n",
       "      <td>Salimi Babak</td>\n",
       "      <td>DSC 100 - Intro to Data Management (A)</td>\n",
       "      <td>SP23</td>\n",
       "      <td>99</td>\n",
       "      <td>81</td>\n",
       "      <td>87.7</td>\n",
       "      <td>80.0</td>\n",
       "      <td>5.33</td>\n",
       "      <td>3.86</td>\n",
       "      <td>3.77</td>\n",
       "      <td>https://cape.ucsd.edu/CAPEReport.aspx?sectioni...</td>\n",
       "      <td>1</td>\n",
       "      <td>A-</td>\n",
       "      <td>A-</td>\n",
       "      <td>DSC 100</td>\n",
       "      <td>Intro to Data Management</td>\n",
       "      <td>A</td>\n",
       "    </tr>\n",
       "    <tr>\n",
       "      <th>3</th>\n",
       "      <td>3</td>\n",
       "      <td>Albuyeh Rod</td>\n",
       "      <td>DSC 102 - Systems for Scalable Analytics (A)</td>\n",
       "      <td>SP23</td>\n",
       "      <td>112</td>\n",
       "      <td>77</td>\n",
       "      <td>93.5</td>\n",
       "      <td>92.2</td>\n",
       "      <td>6.74</td>\n",
       "      <td>3.73</td>\n",
       "      <td>3.53</td>\n",
       "      <td>https://cape.ucsd.edu/CAPEReport.aspx?sectioni...</td>\n",
       "      <td>1</td>\n",
       "      <td>A-</td>\n",
       "      <td>B+</td>\n",
       "      <td>DSC 102</td>\n",
       "      <td>Systems for Scalable Analytics</td>\n",
       "      <td>A</td>\n",
       "    </tr>\n",
       "    <tr>\n",
       "      <th>4</th>\n",
       "      <td>4</td>\n",
       "      <td>Gupta Amarnath</td>\n",
       "      <td>DSC 104 - Beyond Relational Data Mgmt (A)</td>\n",
       "      <td>SP23</td>\n",
       "      <td>18</td>\n",
       "      <td>6</td>\n",
       "      <td>100.0</td>\n",
       "      <td>80.0</td>\n",
       "      <td>6.10</td>\n",
       "      <td>4.00</td>\n",
       "      <td>NaN</td>\n",
       "      <td>https://cape.ucsd.edu/CAPEReport.aspx?sectioni...</td>\n",
       "      <td>1</td>\n",
       "      <td>A</td>\n",
       "      <td>NaN</td>\n",
       "      <td>DSC 104</td>\n",
       "      <td>Beyond Relational Data Mgmt</td>\n",
       "      <td>A</td>\n",
       "    </tr>\n",
       "  </tbody>\n",
       "</table>\n",
       "</div>"
      ],
      "text/plain": [
       "   Unnamed: 0      Instructor                                        Course  \\\n",
       "0           0   Rampure Suraj       DSC 10 - Principles of Data Science (A)   \n",
       "1           1   Rampure Suraj       DSC 10 - Principles of Data Science (B)   \n",
       "2           2    Salimi Babak        DSC 100 - Intro to Data Management (A)   \n",
       "3           3     Albuyeh Rod  DSC 102 - Systems for Scalable Analytics (A)   \n",
       "4           4  Gupta Amarnath     DSC 104 - Beyond Relational Data Mgmt (A)   \n",
       "\n",
       "  Quarter  TotalEnrolledinCourse  Total CAPEsGiven  \\\n",
       "0    SP23                    117                92   \n",
       "1    SP23                    117                80   \n",
       "2    SP23                     99                81   \n",
       "3    SP23                    112                77   \n",
       "4    SP23                     18                 6   \n",
       "\n",
       "   PercentageRecommendedClass  PercentageRecommendedProfessor  \\\n",
       "0                        97.8                            98.9   \n",
       "1                        82.3                            96.2   \n",
       "2                        87.7                            80.0   \n",
       "3                        93.5                            92.2   \n",
       "4                       100.0                            80.0   \n",
       "\n",
       "   StudyHoursperWeek  AverageGradeExpected  AverageGradeReceived  \\\n",
       "0               8.32                  3.55                  3.21   \n",
       "1               8.78                  3.42                  3.14   \n",
       "2               5.33                  3.86                  3.77   \n",
       "3               6.74                  3.73                  3.53   \n",
       "4               6.10                  4.00                   NaN   \n",
       "\n",
       "                                      EvalulationURL  GradedCourse  \\\n",
       "0  https://cape.ucsd.edu/CAPEReport.aspx?sectioni...             1   \n",
       "1  https://cape.ucsd.edu/CAPEReport.aspx?sectioni...             1   \n",
       "2  https://cape.ucsd.edu/CAPEReport.aspx?sectioni...             1   \n",
       "3  https://cape.ucsd.edu/CAPEReport.aspx?sectioni...             1   \n",
       "4  https://cape.ucsd.edu/CAPEReport.aspx?sectioni...             1   \n",
       "\n",
       "  AverageGradeExpected1 AverageGradeReceived1 CourseID  \\\n",
       "0                    B+                     B   DSC 10   \n",
       "1                    B+                     B   DSC 10   \n",
       "2                    A-                    A-  DSC 100   \n",
       "3                    A-                    B+  DSC 102   \n",
       "4                     A                   NaN  DSC 104   \n",
       "\n",
       "                       CourseName CourseSection  \n",
       "0      Principles of Data Science             A  \n",
       "1      Principles of Data Science             B  \n",
       "2        Intro to Data Management             A  \n",
       "3  Systems for Scalable Analytics             A  \n",
       "4     Beyond Relational Data Mgmt             A  "
      ]
     },
     "execution_count": 3,
     "metadata": {},
     "output_type": "execute_result"
    }
   ],
   "source": [
    "data  = pd.read_csv('../static/capes.csv')\n",
    "data.head()"
   ]
  },
  {
   "cell_type": "code",
   "execution_count": 4,
   "metadata": {},
   "outputs": [
    {
     "data": {
      "text/plain": [
       "(0.65, 18.83)"
      ]
     },
     "execution_count": 4,
     "metadata": {},
     "output_type": "execute_result"
    }
   ],
   "source": [
    "data['StudyHoursperWeek'].min(), data['StudyHoursperWeek'].max()"
   ]
  },
  {
   "cell_type": "code",
   "execution_count": 5,
   "metadata": {},
   "outputs": [
    {
     "data": {
      "text/plain": [
       "(2.43, 4.0)"
      ]
     },
     "execution_count": 5,
     "metadata": {},
     "output_type": "execute_result"
    }
   ],
   "source": [
    "data['AverageGradeExpected'].min(), data['AverageGradeExpected'].max()"
   ]
  },
  {
   "cell_type": "code",
   "execution_count": 6,
   "metadata": {},
   "outputs": [
    {
     "name": "stdout",
     "output_type": "stream",
     "text": [
      "(2.43, 4.0)\n",
      "(2.47, 4.0)\n"
     ]
    }
   ],
   "source": [
    "def find_range(col):  \n",
    "    return data[col].min(), data[col].max() \n",
    "\n",
    "print(find_range(\"AverageGradeExpected\"))\n",
    "print(find_range('AverageGradeReceived'))"
   ]
  },
  {
   "cell_type": "code",
   "execution_count": 7,
   "metadata": {},
   "outputs": [
    {
     "data": {
      "text/plain": [
       "0      8.32\n",
       "1      8.78\n",
       "2      5.33\n",
       "3      6.74\n",
       "4      6.10\n",
       "       ... \n",
       "263    7.27\n",
       "264    9.89\n",
       "265    8.18\n",
       "266    6.63\n",
       "267    8.50\n",
       "Name: StudyHoursperWeek, Length: 268, dtype: float64"
      ]
     },
     "execution_count": 7,
     "metadata": {},
     "output_type": "execute_result"
    }
   ],
   "source": [
    "data['StudyHoursperWeek']"
   ]
  },
  {
   "cell_type": "code",
   "execution_count": 8,
   "metadata": {},
   "outputs": [
    {
     "data": {
      "text/html": [
       "<div>\n",
       "<style scoped>\n",
       "    .dataframe tbody tr th:only-of-type {\n",
       "        vertical-align: middle;\n",
       "    }\n",
       "\n",
       "    .dataframe tbody tr th {\n",
       "        vertical-align: top;\n",
       "    }\n",
       "\n",
       "    .dataframe thead th {\n",
       "        text-align: right;\n",
       "    }\n",
       "</style>\n",
       "<table border=\"1\" class=\"dataframe\">\n",
       "  <thead>\n",
       "    <tr style=\"text-align: right;\">\n",
       "      <th></th>\n",
       "      <th>Unnamed: 0</th>\n",
       "      <th>Instructor</th>\n",
       "      <th>Course</th>\n",
       "      <th>Quarter</th>\n",
       "      <th>TotalEnrolledinCourse</th>\n",
       "      <th>Total CAPEsGiven</th>\n",
       "      <th>PercentageRecommendedClass</th>\n",
       "      <th>PercentageRecommendedProfessor</th>\n",
       "      <th>StudyHoursperWeek</th>\n",
       "      <th>AverageGradeExpected</th>\n",
       "      <th>AverageGradeReceived</th>\n",
       "      <th>EvalulationURL</th>\n",
       "      <th>GradedCourse</th>\n",
       "      <th>AverageGradeExpected1</th>\n",
       "      <th>AverageGradeReceived1</th>\n",
       "      <th>CourseID</th>\n",
       "      <th>CourseName</th>\n",
       "      <th>CourseSection</th>\n",
       "    </tr>\n",
       "  </thead>\n",
       "  <tbody>\n",
       "    <tr>\n",
       "      <th>89</th>\n",
       "      <td>89</td>\n",
       "      <td>Dumitriu Ioana</td>\n",
       "      <td>DSC 155 - Hidden Data in Random Matrices (A)</td>\n",
       "      <td>WI22</td>\n",
       "      <td>18</td>\n",
       "      <td>8</td>\n",
       "      <td>57.1</td>\n",
       "      <td>100.0</td>\n",
       "      <td>10.75</td>\n",
       "      <td>2.43</td>\n",
       "      <td>NaN</td>\n",
       "      <td>https://cape.ucsd.edu/CAPEReport.aspx?sectioni...</td>\n",
       "      <td>1</td>\n",
       "      <td>C+</td>\n",
       "      <td>NaN</td>\n",
       "      <td>DSC 155</td>\n",
       "      <td>Hidden Data in Random Matrices</td>\n",
       "      <td>A</td>\n",
       "    </tr>\n",
       "  </tbody>\n",
       "</table>\n",
       "</div>"
      ],
      "text/plain": [
       "    Unnamed: 0      Instructor                                        Course  \\\n",
       "89          89  Dumitriu Ioana  DSC 155 - Hidden Data in Random Matrices (A)   \n",
       "\n",
       "   Quarter  TotalEnrolledinCourse  Total CAPEsGiven  \\\n",
       "89    WI22                     18                 8   \n",
       "\n",
       "    PercentageRecommendedClass  PercentageRecommendedProfessor  \\\n",
       "89                        57.1                           100.0   \n",
       "\n",
       "    StudyHoursperWeek  AverageGradeExpected  AverageGradeReceived  \\\n",
       "89              10.75                  2.43                   NaN   \n",
       "\n",
       "                                       EvalulationURL  GradedCourse  \\\n",
       "89  https://cape.ucsd.edu/CAPEReport.aspx?sectioni...             1   \n",
       "\n",
       "   AverageGradeExpected1 AverageGradeReceived1 CourseID  \\\n",
       "89                    C+                   NaN  DSC 155   \n",
       "\n",
       "                        CourseName CourseSection  \n",
       "89  Hidden Data in Random Matrices             A  "
      ]
     },
     "execution_count": 8,
     "metadata": {},
     "output_type": "execute_result"
    }
   ],
   "source": [
    "data[data['AverageGradeExpected'] == 2.43]"
   ]
  },
  {
   "cell_type": "code",
   "execution_count": 9,
   "metadata": {},
   "outputs": [],
   "source": [
    "grade_mapping = {\n",
    "    'A+': 4.0,\n",
    "    'A': 4.0,\n",
    "    'A-': 3.7,\n",
    "    'B+': 3.3,\n",
    "    'B': 3.0,\n",
    "    'B-': 2.7,\n",
    "    'C+': 2.3,\n",
    "    'C': 2.0,\n",
    "    'C-': 1.7\n",
    "}"
   ]
  },
  {
   "cell_type": "code",
   "execution_count": 10,
   "metadata": {},
   "outputs": [
    {
     "data": {
      "text/plain": [
       "0      3.55\n",
       "1      3.42\n",
       "2      3.86\n",
       "3      3.73\n",
       "4      4.00\n",
       "       ... \n",
       "263    3.59\n",
       "264    3.43\n",
       "265    3.29\n",
       "266    3.44\n",
       "267    3.29\n",
       "Name: AverageGradeExpected, Length: 268, dtype: float64"
      ]
     },
     "execution_count": 10,
     "metadata": {},
     "output_type": "execute_result"
    }
   ],
   "source": [
    "data['AverageGradeExpected']"
   ]
  },
  {
   "cell_type": "code",
   "execution_count": 11,
   "metadata": {},
   "outputs": [
    {
     "data": {
      "text/plain": [
       "(268,)"
      ]
     },
     "execution_count": 11,
     "metadata": {},
     "output_type": "execute_result"
    }
   ],
   "source": [
    "data[\"Course\"].shape"
   ]
  },
  {
   "cell_type": "code",
   "execution_count": 23,
   "metadata": {},
   "outputs": [
    {
     "data": {
      "text/plain": [
       "0           [DSC 10, Principles of Data Science (A)]\n",
       "1           [DSC 10, Principles of Data Science (B)]\n",
       "2            [DSC 100, Intro to Data Management (A)]\n",
       "3      [DSC 102, Systems for Scalable Analytics (A)]\n",
       "4         [DSC 104, Beyond Relational Data Mgmt (A)]\n",
       "                           ...                      \n",
       "263        [DSC 10, Introduction to Programming (D)]\n",
       "264           [DSC 20, Intro to Data Structures (B)]\n",
       "265        [DSC 10, Introduction to Programming (A)]\n",
       "266        [DSC 10, Introduction to Programming (B)]\n",
       "267        [DSC 10, Introduction to Programming (C)]\n",
       "Name: Course, Length: 268, dtype: object"
      ]
     },
     "execution_count": 23,
     "metadata": {},
     "output_type": "execute_result"
    }
   ],
   "source": [
    "data['Course'].str.split(' - ')"
   ]
  },
  {
   "cell_type": "code",
   "execution_count": null,
   "metadata": {},
   "outputs": [],
   "source": [
    "\""
   ]
  }
 ],
 "metadata": {
  "kernelspec": {
   "display_name": "base",
   "language": "python",
   "name": "python3"
  },
  "language_info": {
   "codemirror_mode": {
    "name": "ipython",
    "version": 3
   },
   "file_extension": ".py",
   "mimetype": "text/x-python",
   "name": "python",
   "nbconvert_exporter": "python",
   "pygments_lexer": "ipython3",
   "version": "3.10.9"
  }
 },
 "nbformat": 4,
 "nbformat_minor": 2
}
